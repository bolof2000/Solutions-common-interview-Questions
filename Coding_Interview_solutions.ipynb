{
  "nbformat": 4,
  "nbformat_minor": 0,
  "metadata": {
    "colab": {
      "name": "Coding Interview solutions.ipynb",
      "provenance": [],
      "collapsed_sections": [],
      "authorship_tag": "ABX9TyOcWGTMuvXsUBrYCkEotTOy",
      "include_colab_link": true
    },
    "kernelspec": {
      "name": "python3",
      "display_name": "Python 3"
    }
  },
  "cells": [
    {
      "cell_type": "markdown",
      "metadata": {
        "id": "view-in-github",
        "colab_type": "text"
      },
      "source": [
        "<a href=\"https://colab.research.google.com/github/bolof2000/Solutions-common-interview-Questions/blob/master/Coding_Interview_solutions.ipynb\" target=\"_parent\"><img src=\"https://colab.research.google.com/assets/colab-badge.svg\" alt=\"Open In Colab\"/></a>"
      ]
    },
    {
      "cell_type": "code",
      "metadata": {
        "id": "vIJoKIA9yvv-",
        "colab_type": "code",
        "colab": {}
      },
      "source": [
        "# function to check if a list contains duplicate items"
      ],
      "execution_count": 0,
      "outputs": []
    },
    {
      "cell_type": "code",
      "metadata": {
        "id": "kNh6YaDQzX-1",
        "colab_type": "code",
        "colab": {}
      },
      "source": [
        "def containsDuplicateSolutions(nums):\n",
        "  dic = {}\n",
        "  for num in nums:\n",
        "    if num in dic:\n",
        "      return True\n",
        "    else:\n",
        "      dic[num] = True\n",
        "  return False"
      ],
      "execution_count": 0,
      "outputs": []
    },
    {
      "cell_type": "code",
      "metadata": {
        "id": "paieWrHd0XgN",
        "colab_type": "code",
        "colab": {
          "base_uri": "https://localhost:8080/",
          "height": 34
        },
        "outputId": "819dc350-3fdd-400a-9e41-a85f56e651c4"
      },
      "source": [
        "containsDuplicateSolutions([1,2,3,4,5,6,7])"
      ],
      "execution_count": 3,
      "outputs": [
        {
          "output_type": "execute_result",
          "data": {
            "text/plain": [
              "False"
            ]
          },
          "metadata": {
            "tags": []
          },
          "execution_count": 3
        }
      ]
    },
    {
      "cell_type": "code",
      "metadata": {
        "id": "EGaSJ8gN0f7S",
        "colab_type": "code",
        "colab": {}
      },
      "source": [
        "# return the indexes of two nums that sum to a particular target number "
      ],
      "execution_count": 0,
      "outputs": []
    },
    {
      "cell_type": "code",
      "metadata": {
        "id": "WhqqXv7m0nsd",
        "colab_type": "code",
        "colab": {}
      },
      "source": [
        "def twoSumSolutions(nums,target):\n",
        "  dic = {}\n",
        "  result = []\n",
        "  for i,num in enumerate(nums):\n",
        "    temp = target-num\n",
        "    if temp in dic:\n",
        "      result.append(i)\n",
        "      result.append(dic[temp])\n",
        "    else:\n",
        "      dic[num] = i\n",
        "\n",
        "  return result "
      ],
      "execution_count": 0,
      "outputs": []
    },
    {
      "cell_type": "code",
      "metadata": {
        "id": "MGTeGZ1Q1Kb6",
        "colab_type": "code",
        "colab": {
          "base_uri": "https://localhost:8080/",
          "height": 34
        },
        "outputId": "abf4153a-92aa-4ccf-953f-1e03ab92a378"
      },
      "source": [
        "twoSumSolutions([1,2,3,4,5],9)"
      ],
      "execution_count": 7,
      "outputs": [
        {
          "output_type": "execute_result",
          "data": {
            "text/plain": [
              "[4, 3]"
            ]
          },
          "metadata": {
            "tags": []
          },
          "execution_count": 7
        }
      ]
    },
    {
      "cell_type": "code",
      "metadata": {
        "id": "iRpfEYHf12Xb",
        "colab_type": "code",
        "colab": {}
      },
      "source": [
        "# product of array except self"
      ],
      "execution_count": 0,
      "outputs": []
    },
    {
      "cell_type": "code",
      "metadata": {
        "id": "GYJkcH6R0gGs",
        "colab_type": "code",
        "colab": {}
      },
      "source": [
        ""
      ],
      "execution_count": 0,
      "outputs": []
    }
  ]
}